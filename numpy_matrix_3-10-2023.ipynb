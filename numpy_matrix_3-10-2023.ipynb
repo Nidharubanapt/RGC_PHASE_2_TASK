{
 "cells": [
  {
   "cell_type": "code",
   "execution_count": 19,
   "id": "ea97996a",
   "metadata": {},
   "outputs": [],
   "source": [
    "import numpy as np"
   ]
  },
  {
   "cell_type": "code",
   "execution_count": 20,
   "id": "c494d39a",
   "metadata": {},
   "outputs": [],
   "source": [
    "matrix1=np.array([[1,2,3],[4,5,6]])"
   ]
  },
  {
   "cell_type": "code",
   "execution_count": 21,
   "id": "3579ce2a",
   "metadata": {},
   "outputs": [],
   "source": [
    "matrix2=np.array([[2,3,4],[3,2,4],[1,2,3]])"
   ]
  },
  {
   "cell_type": "code",
   "execution_count": 22,
   "id": "562d1538",
   "metadata": {},
   "outputs": [
    {
     "name": "stdout",
     "output_type": "stream",
     "text": [
      "[[1 2 3]\n",
      " [4 5 6]]\n"
     ]
    }
   ],
   "source": [
    "print(matrix1)"
   ]
  },
  {
   "cell_type": "code",
   "execution_count": 23,
   "id": "317bb9b8",
   "metadata": {},
   "outputs": [
    {
     "name": "stdout",
     "output_type": "stream",
     "text": [
      "[[2 3 4]\n",
      " [3 2 4]\n",
      " [1 2 3]]\n"
     ]
    }
   ],
   "source": [
    "print(matrix2)"
   ]
  },
  {
   "cell_type": "code",
   "execution_count": 24,
   "id": "02aec15e",
   "metadata": {},
   "outputs": [],
   "source": [
    "matrix_mult=np.dot(matrix1,matrix2)"
   ]
  },
  {
   "cell_type": "code",
   "execution_count": 26,
   "id": "d13dfef2",
   "metadata": {},
   "outputs": [
    {
     "name": "stdout",
     "output_type": "stream",
     "text": [
      "[[11 13 21]\n",
      " [29 34 54]]\n"
     ]
    }
   ],
   "source": [
    "print(matrix_mult)"
   ]
  },
  {
   "cell_type": "code",
   "execution_count": 28,
   "id": "a18a4f65",
   "metadata": {},
   "outputs": [],
   "source": [
    "transpose=np.transpose(matrix_mult)"
   ]
  },
  {
   "cell_type": "code",
   "execution_count": 30,
   "id": "482222ef",
   "metadata": {},
   "outputs": [
    {
     "name": "stdout",
     "output_type": "stream",
     "text": [
      "[[11 29]\n",
      " [13 34]\n",
      " [21 54]]\n"
     ]
    }
   ],
   "source": [
    "print(transpose)"
   ]
  },
  {
   "cell_type": "code",
   "execution_count": null,
   "id": "783d0258",
   "metadata": {},
   "outputs": [],
   "source": []
  }
 ],
 "metadata": {
  "kernelspec": {
   "display_name": "Python 3 (ipykernel)",
   "language": "python",
   "name": "python3"
  },
  "language_info": {
   "codemirror_mode": {
    "name": "ipython",
    "version": 3
   },
   "file_extension": ".py",
   "mimetype": "text/x-python",
   "name": "python",
   "nbconvert_exporter": "python",
   "pygments_lexer": "ipython3",
   "version": "3.11.5"
  }
 },
 "nbformat": 4,
 "nbformat_minor": 5
}
