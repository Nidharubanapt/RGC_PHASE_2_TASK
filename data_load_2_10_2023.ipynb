{
 "cells": [
  {
   "cell_type": "code",
   "execution_count": 2,
   "id": "90008363",
   "metadata": {},
   "outputs": [],
   "source": [
    "import joblib"
   ]
  },
  {
   "cell_type": "code",
   "execution_count": 3,
   "id": "20b81016",
   "metadata": {},
   "outputs": [],
   "source": [
    "data=joblib.load(\"data.pkl\")"
   ]
  },
  {
   "cell_type": "code",
   "execution_count": 4,
   "id": "6231f7d9",
   "metadata": {},
   "outputs": [
    {
     "data": {
      "text/html": [
       "<div>\n",
       "<style scoped>\n",
       "    .dataframe tbody tr th:only-of-type {\n",
       "        vertical-align: middle;\n",
       "    }\n",
       "\n",
       "    .dataframe tbody tr th {\n",
       "        vertical-align: top;\n",
       "    }\n",
       "\n",
       "    .dataframe thead th {\n",
       "        text-align: right;\n",
       "    }\n",
       "</style>\n",
       "<table border=\"1\" class=\"dataframe\">\n",
       "  <thead>\n",
       "    <tr style=\"text-align: right;\">\n",
       "      <th></th>\n",
       "      <th>AI_Topic</th>\n",
       "      <th>Description</th>\n",
       "      <th>Applications</th>\n",
       "      <th>Year of Invention</th>\n",
       "      <th>Key Figures</th>\n",
       "    </tr>\n",
       "  </thead>\n",
       "  <tbody>\n",
       "    <tr>\n",
       "      <th>0</th>\n",
       "      <td>Machine Learning</td>\n",
       "      <td>A subfield of AI that focuses on developing al...</td>\n",
       "      <td>Recommendation Systems, Predictive Analytics</td>\n",
       "      <td>1950</td>\n",
       "      <td>Arthur Samuel</td>\n",
       "    </tr>\n",
       "    <tr>\n",
       "      <th>1</th>\n",
       "      <td>Neural Networks</td>\n",
       "      <td>A type of AI that is inspired by the structure...</td>\n",
       "      <td>Image and Speech Recognition, Autonomous Vehicles</td>\n",
       "      <td>1943</td>\n",
       "      <td>Warren McCulloch and Walter Pitts</td>\n",
       "    </tr>\n",
       "    <tr>\n",
       "      <th>2</th>\n",
       "      <td>Natural Language Processing</td>\n",
       "      <td>A branch of AI that deals with the interaction...</td>\n",
       "      <td>Chatbots, Sentiment Analysis</td>\n",
       "      <td>1950</td>\n",
       "      <td>Alan Turing</td>\n",
       "    </tr>\n",
       "    <tr>\n",
       "      <th>3</th>\n",
       "      <td>Computer Vision</td>\n",
       "      <td>A field within AI that teaches computers to in...</td>\n",
       "      <td>Facial Recognition, Object Detection</td>\n",
       "      <td>1960</td>\n",
       "      <td>David Marr</td>\n",
       "    </tr>\n",
       "    <tr>\n",
       "      <th>4</th>\n",
       "      <td>Reinforcement Learning</td>\n",
       "      <td>A type of AI where agents learn to make decisi...</td>\n",
       "      <td>Game Playing, Robotics</td>\n",
       "      <td>1980</td>\n",
       "      <td>Richard Sutton</td>\n",
       "    </tr>\n",
       "  </tbody>\n",
       "</table>\n",
       "</div>"
      ],
      "text/plain": [
       "                      AI_Topic  \\\n",
       "0             Machine Learning   \n",
       "1              Neural Networks   \n",
       "2  Natural Language Processing   \n",
       "3              Computer Vision   \n",
       "4       Reinforcement Learning   \n",
       "\n",
       "                                         Description  \\\n",
       "0  A subfield of AI that focuses on developing al...   \n",
       "1  A type of AI that is inspired by the structure...   \n",
       "2  A branch of AI that deals with the interaction...   \n",
       "3  A field within AI that teaches computers to in...   \n",
       "4  A type of AI where agents learn to make decisi...   \n",
       "\n",
       "                                        Applications  Year of Invention  \\\n",
       "0       Recommendation Systems, Predictive Analytics               1950   \n",
       "1  Image and Speech Recognition, Autonomous Vehicles               1943   \n",
       "2                       Chatbots, Sentiment Analysis               1950   \n",
       "3               Facial Recognition, Object Detection               1960   \n",
       "4                             Game Playing, Robotics               1980   \n",
       "\n",
       "                         Key Figures  \n",
       "0                      Arthur Samuel  \n",
       "1  Warren McCulloch and Walter Pitts  \n",
       "2                        Alan Turing  \n",
       "3                         David Marr  \n",
       "4                     Richard Sutton  "
      ]
     },
     "execution_count": 4,
     "metadata": {},
     "output_type": "execute_result"
    }
   ],
   "source": [
    "data"
   ]
  },
  {
   "cell_type": "code",
   "execution_count": 5,
   "id": "c7afe783",
   "metadata": {},
   "outputs": [],
   "source": [
    "def nidha(a):\n",
    "    t=data[a]\n",
    "    return t"
   ]
  },
  {
   "cell_type": "code",
   "execution_count": 43,
   "id": "0099add0",
   "metadata": {},
   "outputs": [
    {
     "data": {
      "text/plain": [
       "0         Recommendation Systems, Predictive Analytics\n",
       "1    Image and Speech Recognition, Autonomous Vehicles\n",
       "2                         Chatbots, Sentiment Analysis\n",
       "3                 Facial Recognition, Object Detection\n",
       "4                               Game Playing, Robotics\n",
       "Name: Applications, dtype: object"
      ]
     },
     "execution_count": 43,
     "metadata": {},
     "output_type": "execute_result"
    }
   ],
   "source": [
    "nidha(\"Applications\")"
   ]
  },
  {
   "cell_type": "code",
   "execution_count": 10,
   "id": "b4992aef",
   "metadata": {},
   "outputs": [
    {
     "data": {
      "text/plain": [
       "0    1950\n",
       "1    1943\n",
       "2    1950\n",
       "3    1960\n",
       "4    1980\n",
       "Name: Year of Invention, dtype: int64"
      ]
     },
     "execution_count": 10,
     "metadata": {},
     "output_type": "execute_result"
    }
   ],
   "source": [
    "nidha(\"Year of Invention\")"
   ]
  },
  {
   "cell_type": "code",
   "execution_count": 15,
   "id": "64f10f16",
   "metadata": {},
   "outputs": [],
   "source": [
    "condition=data['Year of Invention']==1943\n",
    "row=data[condition]"
   ]
  },
  {
   "cell_type": "code",
   "execution_count": 16,
   "id": "f9f9b9f3",
   "metadata": {},
   "outputs": [
    {
     "data": {
      "text/html": [
       "<div>\n",
       "<style scoped>\n",
       "    .dataframe tbody tr th:only-of-type {\n",
       "        vertical-align: middle;\n",
       "    }\n",
       "\n",
       "    .dataframe tbody tr th {\n",
       "        vertical-align: top;\n",
       "    }\n",
       "\n",
       "    .dataframe thead th {\n",
       "        text-align: right;\n",
       "    }\n",
       "</style>\n",
       "<table border=\"1\" class=\"dataframe\">\n",
       "  <thead>\n",
       "    <tr style=\"text-align: right;\">\n",
       "      <th></th>\n",
       "      <th>AI_Topic</th>\n",
       "      <th>Description</th>\n",
       "      <th>Applications</th>\n",
       "      <th>Year of Invention</th>\n",
       "      <th>Key Figures</th>\n",
       "    </tr>\n",
       "  </thead>\n",
       "  <tbody>\n",
       "    <tr>\n",
       "      <th>1</th>\n",
       "      <td>Neural Networks</td>\n",
       "      <td>A type of AI that is inspired by the structure...</td>\n",
       "      <td>Image and Speech Recognition, Autonomous Vehicles</td>\n",
       "      <td>1943</td>\n",
       "      <td>Warren McCulloch and Walter Pitts</td>\n",
       "    </tr>\n",
       "  </tbody>\n",
       "</table>\n",
       "</div>"
      ],
      "text/plain": [
       "          AI_Topic                                        Description  \\\n",
       "1  Neural Networks  A type of AI that is inspired by the structure...   \n",
       "\n",
       "                                        Applications  Year of Invention  \\\n",
       "1  Image and Speech Recognition, Autonomous Vehicles               1943   \n",
       "\n",
       "                         Key Figures  \n",
       "1  Warren McCulloch and Walter Pitts  "
      ]
     },
     "execution_count": 16,
     "metadata": {},
     "output_type": "execute_result"
    }
   ],
   "source": [
    "row"
   ]
  },
  {
   "cell_type": "code",
   "execution_count": null,
   "id": "f0337e0f",
   "metadata": {},
   "outputs": [],
   "source": []
  }
 ],
 "metadata": {
  "kernelspec": {
   "display_name": "Python 3 (ipykernel)",
   "language": "python",
   "name": "python3"
  },
  "language_info": {
   "codemirror_mode": {
    "name": "ipython",
    "version": 3
   },
   "file_extension": ".py",
   "mimetype": "text/x-python",
   "name": "python",
   "nbconvert_exporter": "python",
   "pygments_lexer": "ipython3",
   "version": "3.11.5"
  }
 },
 "nbformat": 4,
 "nbformat_minor": 5
}
